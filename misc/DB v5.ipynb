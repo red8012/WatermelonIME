{
 "cells": [
  {
   "cell_type": "markdown",
   "metadata": {},
   "source": [
    "# Comment\n",
    "* p = pinyin\n",
    "* c = character\n",
    "* o = order"
   ]
  },
  {
   "cell_type": "markdown",
   "metadata": {},
   "source": [
    "# Todo\n",
    "1. [OK] Rework priority \n",
    "2. [OK] fill in missing solo\n",
    "3. [OK] split concerto\n",
    "4. [OK] ui, ve problem\n",
    "5. [OK] dict order\n",
    "6. [OK] zhuyin alignment for 1 sound\n",
    "\n",
    "\n",
    "* dict included: 18.8M\n",
    "* ui, ve       : 18.9M\n",
    "* add zi2pin   : 20.4M"
   ]
  },
  {
   "cell_type": "code",
   "execution_count": 1,
   "metadata": {
    "collapsed": true
   },
   "outputs": [],
   "source": [
    "import sqlite3\n",
    "import time\n",
    "import numpy as np\n",
    "from colorama import Fore"
   ]
  },
  {
   "cell_type": "code",
   "execution_count": 2,
   "metadata": {
    "collapsed": false
   },
   "outputs": [
    {
     "data": {
      "text/plain": [
       "([], [('exclusive',)], [], [(100000000,)], [('off',)])"
      ]
     },
     "execution_count": 2,
     "metadata": {},
     "output_type": "execute_result"
    }
   ],
   "source": [
    "conn = sqlite3.connect('magician20130911.db3')\n",
    "c = conn.cursor()\n",
    "(list(c.execute('PRAGMA synchronous=OFF')),\n",
    "list(c.execute('PRAGMA locking_mode=EXCLUSIVE')),\n",
    "list(c.execute('PRAGMA temp_store=MEMORY')),\n",
    "list(c.execute('PRAGMA mmap_size=100000000')),\n",
    "list(c.execute('PRAGMA journal_mode=OFF')))"
   ]
  },
  {
   "cell_type": "code",
   "execution_count": 3,
   "metadata": {
    "collapsed": false
   },
   "outputs": [],
   "source": [
    "# newDB = sqlite3.connect(':memory:')\n",
    "newDB = sqlite3.connect('v5.db')\n",
    "n = newDB.cursor()"
   ]
  },
  {
   "cell_type": "code",
   "execution_count": 4,
   "metadata": {
    "collapsed": false
   },
   "outputs": [
    {
     "data": {
      "text/plain": [
       "([(2,)], [('normal',)])"
      ]
     },
     "execution_count": 4,
     "metadata": {},
     "output_type": "execute_result"
    }
   ],
   "source": [
    "list(n.execute('PRAGMA synchronous')), list(n.execute('PRAGMA locking_mode'))"
   ]
  },
  {
   "cell_type": "code",
   "execution_count": 5,
   "metadata": {
    "collapsed": false
   },
   "outputs": [
    {
     "data": {
      "text/plain": [
       "([(0,)], [('exclusive',)])"
      ]
     },
     "execution_count": 5,
     "metadata": {},
     "output_type": "execute_result"
    }
   ],
   "source": [
    "list(n.execute('PRAGMA synchronous=OFF')), list(n.execute('PRAGMA locking_mode=EXCLUSIVE'))\n",
    "list(n.execute('PRAGMA synchronous')), list(n.execute('PRAGMA locking_mode'))"
   ]
  },
  {
   "cell_type": "code",
   "execution_count": 6,
   "metadata": {
    "collapsed": false
   },
   "outputs": [
    {
     "data": {
      "text/plain": [
       "([(0,)], [(0,)])"
      ]
     },
     "execution_count": 6,
     "metadata": {},
     "output_type": "execute_result"
    }
   ],
   "source": [
    "list(n.execute('PRAGMA temp_store')), list(n.execute('PRAGMA mmap_size'))"
   ]
  },
  {
   "cell_type": "code",
   "execution_count": 7,
   "metadata": {
    "collapsed": false
   },
   "outputs": [
    {
     "data": {
      "text/plain": [
       "([(2,)], [(100000000,)])"
      ]
     },
     "execution_count": 7,
     "metadata": {},
     "output_type": "execute_result"
    }
   ],
   "source": [
    "list(n.execute('PRAGMA temp_store=MEMORY')), list(n.execute('PRAGMA mmap_size=100000000'))\n",
    "list(n.execute('PRAGMA temp_store')), list(n.execute('PRAGMA mmap_size'))"
   ]
  },
  {
   "cell_type": "code",
   "execution_count": 8,
   "metadata": {
    "collapsed": false
   },
   "outputs": [
    {
     "data": {
      "text/plain": [
       "([('delete',)], [('off',)], [('off',)])"
      ]
     },
     "execution_count": 8,
     "metadata": {},
     "output_type": "execute_result"
    }
   ],
   "source": [
    "list(n.execute('PRAGMA journal_mode')), list(n.execute('PRAGMA journal_mode=OFF')), list(n.execute('PRAGMA journal_mode'))"
   ]
  },
  {
   "cell_type": "markdown",
   "metadata": {},
   "source": [
    "# Create Table"
   ]
  },
  {
   "cell_type": "code",
   "execution_count": 9,
   "metadata": {
    "collapsed": false
   },
   "outputs": [
    {
     "data": {
      "text/plain": [
       "<sqlite3.Cursor at 0x104abbe30>"
      ]
     },
     "execution_count": 9,
     "metadata": {},
     "output_type": "execute_result"
    }
   ],
   "source": [
    "# n.execute(\"drop table meta\")\n",
    "n.execute(\"create table 'meta'(k text collate binary, v text collate binary, primary key (k collate binary) \" + \\\n",
    "          \"on conflict abort) without rowid\")\n",
    "n.execute(\"insert into meta values(?, ?)\", ('version', 5))\n",
    "n.execute(\"insert into meta values(?, ?)\", ('time', time.strftime('%d %b %Y %H:%M:%S')))"
   ]
  },
  {
   "cell_type": "code",
   "execution_count": 10,
   "metadata": {
    "collapsed": false
   },
   "outputs": [],
   "source": [
    "for i in range(1, 10):\n",
    "    sql = 'create table \"s' + str(i) + '\"(p text collate binary, c text collate binary, o integer not null, ' + \\\n",
    "        'primary key (p collate binary, c collate binary, o) on conflict ignore) without rowid'\n",
    "    n.execute(sql)\n",
    "newDB.commit()"
   ]
  },
  {
   "cell_type": "code",
   "execution_count": 11,
   "metadata": {
    "collapsed": false
   },
   "outputs": [],
   "source": [
    "# for i in n.execute('SELECT * FROM sqlite_master;'):\n",
    "#     print(i)"
   ]
  },
  {
   "cell_type": "markdown",
   "metadata": {},
   "source": [
    "# Rework priority"
   ]
  },
  {
   "cell_type": "code",
   "execution_count": 12,
   "metadata": {
    "collapsed": true
   },
   "outputs": [],
   "source": [
    "m = [('solo', 's1', '16'), ('duet', 's2', '16'), ('trio', 's3', '8'), ('quartet', 's4', '6'), ]"
   ]
  },
  {
   "cell_type": "code",
   "execution_count": 13,
   "metadata": {
    "collapsed": false
   },
   "outputs": [
    {
     "name": "stdout",
     "output_type": "stream",
     "text": [
      "369\t16\n",
      "50465\t16\n",
      "183693\t8\n",
      "169822\t6\n"
     ]
    }
   ],
   "source": [
    "for oldTableName, newTableName, limit in m:\n",
    "    maxCount = 0\n",
    "    pinyinList = list(c.execute('select distinct pinyin from ' + oldTableName))\n",
    "    print(len(pinyinList), end='\\t')\n",
    "    for pinyin in pinyinList:\n",
    "        x = list(c.execute('select * from ' + oldTableName + ' where pinyin=? order by priority desc limit ' + limit, pinyin))\n",
    "        maxCount = max(len(x), maxCount)\n",
    "        n.executemany('INSERT INTO ' + newTableName + ' VALUES (?,?,?)', [(j[0], j[1], 500+i*2) for i, j in enumerate(x)])\n",
    "    print(maxCount)\n",
    "newDB.commit()"
   ]
  },
  {
   "cell_type": "code",
   "execution_count": 14,
   "metadata": {
    "collapsed": false
   },
   "outputs": [
    {
     "name": "stdout",
     "output_type": "stream",
     "text": [
      "5 96750\n",
      "6 45900\n",
      "7 24991\n",
      "8 15325\n",
      "9 9621\n"
     ]
    }
   ],
   "source": [
    "for i in range(10, 20, 2):\n",
    "    pinyin = list(c.execute('select distinct pinyin from concerto where length(pinyin)='+str(i)))\n",
    "    length = i // 2\n",
    "    print(length, len(pinyin))\n",
    "    for p in pinyin:\n",
    "        x = list(c.execute('select * from concerto where pinyin=? order by priority desc limit 4', p))\n",
    "        n.executemany('INSERT INTO s' + str(length) + ' VALUES (?,?,?)', [(j[0], j[1], 500+i*2) for i, j in enumerate(x)])"
   ]
  },
  {
   "cell_type": "markdown",
   "metadata": {},
   "source": [
    "# Fix ie/ue problem"
   ]
  },
  {
   "cell_type": "code",
   "execution_count": 15,
   "metadata": {
    "collapsed": false
   },
   "outputs": [
    {
     "data": {
      "text/plain": [
       "(True, False)"
      ]
     },
     "execution_count": 15,
     "metadata": {},
     "output_type": "execute_result"
    }
   ],
   "source": [
    "def isE(p, z):\n",
    "    try:\n",
    "        cursor = c.execute('select * from dict where pinyin glob ? and zi glob ?', (p, '*' + z + '*'))\n",
    "        dic = next(cursor)\n",
    "        zhuyin = dic[1]\n",
    "        return 'ㄝ' in zhuyin\n",
    "    except: \n",
    "        print('warn', p, z)\n",
    "        return False\n",
    "isE('Nr', '缺'), isE('Lr', '為')"
   ]
  },
  {
   "cell_type": "code",
   "execution_count": 16,
   "metadata": {
    "collapsed": false
   },
   "outputs": [],
   "source": [
    "def fix(table, iZiTarget):\n",
    "    globPinyin = ['?'] * (2 * table)\n",
    "    globPinyin[2 * iZiTarget + 1] = 'r'\n",
    "    globPinyin = ''.join(globPinyin)\n",
    "    for i in list(n.execute(\n",
    "            'select * from s' + str(table) + ' where p glob ? order by o desc', (globPinyin,))):\n",
    "        pinyin, zi = i[:2]\n",
    "        pinyinI, ziI = pinyin[iZiTarget*2:iZiTarget*2+2], zi[iZiTarget]\n",
    "        \n",
    "        if isE(pinyinI, ziI):\n",
    "            newPinyin = pinyin[:2 * iZiTarget + 1] + 'd' + pinyin[2 * iZiTarget + 2:]\n",
    "            sql = 'update s' + str(table) + ' set p = ? where c = ? and p = ?'\n",
    "            n.execute(sql, (newPinyin, zi, pinyin))\n",
    "# fix(3, 2)"
   ]
  },
  {
   "cell_type": "code",
   "execution_count": 17,
   "metadata": {
    "collapsed": false
   },
   "outputs": [
    {
     "name": "stdout",
     "output_type": "stream",
     "text": [
      "1 0\n",
      "warn Hr 摾\n",
      "2 0\n",
      "2 1\n",
      "3 0\n",
      "3 1\n",
      "warn Ir 繪\n",
      "3 2\n",
      "warn Ir 繪\n",
      "4 0\n",
      "4 1\n",
      "warn Ir 繪\n",
      "4 2\n",
      "warn Ir 繪\n",
      "warn Ir 繪\n",
      "4 3\n",
      "warn Ir 繪\n",
      "5 0\n",
      "5 1\n",
      "5 2\n",
      "warn Ir 繪\n",
      "5 3\n",
      "warn Ir 繪\n",
      "5 4\n",
      "warn Ir 繪\n",
      "6 0\n",
      "6 1\n",
      "6 2\n",
      "6 3\n",
      "6 4\n",
      "6 5\n",
      "7 0\n",
      "7 1\n",
      "7 2\n",
      "7 3\n",
      "7 4\n",
      "7 5\n",
      "7 6\n",
      "8 0\n",
      "8 1\n",
      "8 2\n",
      "8 3\n",
      "8 4\n",
      "8 5\n",
      "8 6\n",
      "8 7\n",
      "9 0\n",
      "9 1\n",
      "9 2\n",
      "9 3\n",
      "9 4\n",
      "9 5\n",
      "9 6\n",
      "9 7\n",
      "9 8\n"
     ]
    }
   ],
   "source": [
    "for i in range(1, 10):\n",
    "    for j in range(i):\n",
    "        print(i, j)\n",
    "        fix(i, j)"
   ]
  },
  {
   "cell_type": "markdown",
   "metadata": {},
   "source": [
    "# Dict"
   ]
  },
  {
   "cell_type": "code",
   "execution_count": 18,
   "metadata": {
    "collapsed": false
   },
   "outputs": [],
   "source": [
    "sql = 'create table \"d\"(p text collate binary, o integer not null, c text collate binary, z text collate binary, ' + \\\n",
    "        'primary key (p collate binary, o) on conflict abort) without rowid'\n",
    "n.execute(sql);"
   ]
  },
  {
   "cell_type": "code",
   "execution_count": 19,
   "metadata": {
    "collapsed": false
   },
   "outputs": [],
   "source": [
    "pinyin = list(c.execute('select distinct pinyin from dict'))"
   ]
  },
  {
   "cell_type": "code",
   "execution_count": 20,
   "metadata": {
    "collapsed": false
   },
   "outputs": [
    {
     "data": {
      "text/plain": [
       "'ㄅㄚ3'"
      ]
     },
     "execution_count": 20,
     "metadata": {},
     "output_type": "execute_result"
    }
   ],
   "source": [
    "trans = {ord(i): j for i, j in zip('ˊˇˋ˙', '2345')}\n",
    "def key(s):\n",
    "    return s.translate(trans)\n",
    "key('ㄅㄚˇ')"
   ]
  },
  {
   "cell_type": "code",
   "execution_count": 21,
   "metadata": {
    "collapsed": false
   },
   "outputs": [],
   "source": [
    "for p in pinyin:\n",
    "    select = list(c.execute('select pinyin, priority, zi, orig from dict where pinyin=? and zi<>orig and zi<>\"ㄉˊ\"', p))\n",
    "    select.sort(key=lambda x: key(x[3]))\n",
    "    select = [list(i) for i in select]\n",
    "#     print(select)\n",
    "    for i, j in enumerate(select):\n",
    "        j[1] = i\n",
    "        if not any(k in j[3] for k in 'ˊˇˋ˙'):\n",
    "            j[3] = j[3] + '　'\n",
    "#     print(select)\n",
    "    n.executemany('insert into d values(?,?,?,?)', select)"
   ]
  },
  {
   "cell_type": "markdown",
   "metadata": {},
   "source": [
    "# Fix ie/ue problem"
   ]
  },
  {
   "cell_type": "code",
   "execution_count": 22,
   "metadata": {
    "collapsed": false
   },
   "outputs": [],
   "source": [
    "for i in list(n.execute(\"select * from d where p glob '?r' and z glob '*ㄝ*'\")):\n",
    "    newPinyin = i[0].replace('r', 'd')\n",
    "    offset = next(n.execute(\"select o from d where p = ? order by o desc\", (i[0].replace('r', 'd'),)))[0]\n",
    "    offset += 1\n",
    "    sql = \"update d set p = ?, o = ? where p = ? and z = ?\"\n",
    "    args = (newPinyin, offset, i[0], i[3])\n",
    "    n.execute(sql, args)"
   ]
  },
  {
   "cell_type": "markdown",
   "metadata": {},
   "source": [
    "# Add solo less than 16"
   ]
  },
  {
   "cell_type": "code",
   "execution_count": 23,
   "metadata": {
    "collapsed": false
   },
   "outputs": [
    {
     "name": "stdout",
     "output_type": "stream",
     "text": [
      "\n",
      " Ad\n",
      " Ae\n",
      " Aj\n",
      " Al\n",
      " An\n",
      " Ap\n",
      " As\n",
      " Av\n",
      " Ba\n",
      " Bd\n",
      " Be\n",
      " Bh\n",
      " Bj\n",
      " Bk\n",
      " Bl\n",
      " Bm\n",
      " Bn\n",
      " Bp\n",
      " Bs\n",
      " Bu\n",
      " Bv\n",
      " Cc\n",
      " Cd\n",
      " Ce\n",
      " Ch\n",
      " Ci\n",
      " Cj\n",
      " Ck\n",
      " Cm\n",
      " Cp\n",
      " Ct\n",
      " Da\n",
      " Db\n",
      " Dh\n",
      " Dj\n",
      " Dk\n",
      " Dl\n",
      " Dp\n",
      " Ds\n",
      " Ea\n",
      " Ec\n",
      " Ef\n",
      " Ei\n",
      " Ek\n",
      " El\n",
      " En\n",
      " Er\n",
      " Et\n",
      " Fb\n",
      " Fc\n",
      " Fd\n",
      " Fg\n",
      " Fh\n",
      " Fl\n",
      " Fm\n",
      " Fn\n",
      " Fr\n",
      " Fs\n",
      " Fv\n",
      " Gb\n",
      " Gc\n",
      " Gd\n",
      " Ge\n",
      " Gf\n",
      " Gg\n",
      " Gh\n",
      " Gj\n",
      " Gk\n",
      " Gl\n",
      " Gm\n",
      " Gn\n",
      " Go\n",
      " Gp\n",
      " Gs\n",
      " Gt\n",
      " Gv\n",
      " Gw\n",
      " Ha\n",
      " Hb\n",
      " Hc\n",
      " He\n",
      " Hg\n",
      " Hi\n",
      " Hk\n",
      " Hl\n",
      " Hm\n",
      " Ho\n",
      " Hr\n",
      " Ia\n",
      " Ie\n",
      " If\n",
      " Ig\n",
      " Ii\n",
      " Ij\n",
      " Ik\n",
      " Il\n",
      " Im\n",
      " In\n",
      " Io\n",
      " Iq\n",
      " Ir\n",
      " Ja\n",
      " Jb\n",
      " Je\n",
      " Jg\n",
      " Jh\n",
      " Ji\n",
      " Jj\n",
      " Jk\n",
      " Jl\n",
      " Jm\n",
      " Jn\n",
      " Jo\n",
      " Jp\n",
      " Jq\n",
      " Jv\n",
      " Ka\n",
      " Kc\n",
      " Ke\n",
      " Kf\n",
      " Kh\n",
      " Kj\n",
      " Kk\n",
      " Kl\n",
      " Km\n",
      " Kn\n",
      " Kq\n",
      " Le\n",
      " Lf\n",
      " Lh\n",
      " Lj\n",
      " Lk\n",
      " Ll\n",
      " Lo\n",
      " Lq\n",
      " Lr\n",
      " Mt\n",
      " Na\n",
      " Nn\n",
      " Np\n",
      " Ns\n",
      " Nt\n",
      " Nw\n",
      " Oa\n",
      " Qa\n",
      " Qb\n",
      " Qc\n",
      " Qe\n",
      " Qf\n",
      " Qg\n",
      " Qk\n",
      " Ql\n",
      " Qm\n",
      " Qo\n",
      " Qp\n",
      " Qq\n",
      " Qr\n",
      " Rb\n",
      " Rc\n",
      " Re\n",
      " Rg\n",
      " Rh\n",
      " Ri\n",
      " Rm\n",
      " Rp\n",
      " Rq\n",
      " Rr\n",
      " Ru\n",
      " Rv\n",
      " Sb\n",
      " Sc\n",
      " Se\n",
      " Sf\n",
      " Sh\n",
      " Sk\n",
      " Sl\n",
      " Sm\n",
      " Sn\n",
      " So\n",
      " Sq\n",
      " Sr\n",
      " Tb\n",
      " Tc\n",
      " Tg\n",
      " Th\n",
      " Tj\n",
      " Tk\n",
      " Tl\n",
      " Tn\n",
      " Tr\n",
      " Tu\n",
      " Tv\n",
      " Ua\n",
      " Ub\n",
      " Uc\n",
      " Ue\n",
      " Uf\n",
      " Uh\n",
      " Ui\n",
      " Uj\n",
      " Uk\n",
      " Ul\n",
      " Um\n",
      " Up\n",
      " Ur\n",
      " Va\n",
      " Vg\n",
      " Vh\n",
      " Vj\n",
      " Vk\n",
      " Vl\n",
      " Vn\n",
      " Vp\n",
      " Vr\n",
      " Wa\n",
      " Wc\n",
      " We\n",
      " Wg\n",
      " Wh\n",
      " Wi\n",
      " Wj\n",
      " Wk\n",
      " Wl\n",
      " Wm\n",
      " Wn\n",
      " Wp\n",
      " Wr"
     ]
    }
   ],
   "source": [
    "from itertools import zip_longest\n",
    "def offset(p):\n",
    "    return next(n.execute(\"select o from s1 where p = ? order by o desc\", (p,)))[0] + 1\n",
    "\n",
    "for i in list(n.execute(\"select distinct p from s1\")):\n",
    "    p = i[0]\n",
    "    j = list(n.execute(\"select * from s1 where p=? order by o\", (p,)))\n",
    "    if len(j) < 16:\n",
    "#         print((j))\n",
    "        print('\\n', p, end='')\n",
    "        zSet = {i[1] for i in j}\n",
    "#         print(zSet)\n",
    "        d = list(n.execute(\"select c from d where p=?\", (p,)))\n",
    "#         print(d)\n",
    "        dList = [i[0] for i in d]\n",
    "#         print(dList)\n",
    "        dList2 = []\n",
    "        for l in zip_longest(*dList):\n",
    "            dList2.extend(l)\n",
    "        dList2 = [i for i in dList2 if i is not None]\n",
    "#         print(dList2)\n",
    "#         print(offset(p))\n",
    "        while offset(p) < 16:\n",
    "            sql = \"insert into s1 values(?,?,?)\"\n",
    "            c = None\n",
    "            for k in dList2:\n",
    "                if k not in zSet:\n",
    "                    c = k\n",
    "                    zSet.add(k)\n",
    "                    break\n",
    "            if c is None: break\n",
    "            arg = (p, c, offset(p))\n",
    "            n.execute(sql, arg)\n",
    "            print(c, end='')\n",
    "#         break"
   ]
  },
  {
   "cell_type": "markdown",
   "metadata": {},
   "source": [
    "# Zhuyin"
   ]
  },
  {
   "cell_type": "code",
   "execution_count": 24,
   "metadata": {
    "collapsed": false
   },
   "outputs": [
    {
     "data": {
      "text/plain": [
       "<sqlite3.Cursor at 0x104abbe30>"
      ]
     },
     "execution_count": 24,
     "metadata": {},
     "output_type": "execute_result"
    }
   ],
   "source": [
    "n.execute('insert into s1 values(\"Jc\", \"ㄎ\", 996)')\n",
    "n.execute('insert into s1 values(\"Kc\", \"ㄏ\", 996)')\n",
    "n.execute('insert into s1 values(\"Su\", \"式\", 996)')\n",
    "n.execute('insert into s1 values(\"Qu\", \"隻\", 996)')"
   ]
  },
  {
   "cell_type": "markdown",
   "metadata": {},
   "source": [
    "# Zi2Pin"
   ]
  },
  {
   "cell_type": "code",
   "execution_count": 25,
   "metadata": {
    "collapsed": true
   },
   "outputs": [],
   "source": [
    "connZi2Pin = sqlite3.connect('zi2pin.db3')\n",
    "z = connZi2Pin.cursor()"
   ]
  },
  {
   "cell_type": "code",
   "execution_count": 26,
   "metadata": {
    "collapsed": false
   },
   "outputs": [
    {
     "data": {
      "text/plain": [
       "(20790, ['七', '乃', '九', '二', '人'], ['Nu', 'Ge', 'Mt', 'Ll', 'Tj'])"
      ]
     },
     "execution_count": 26,
     "metadata": {},
     "output_type": "execute_result"
    }
   ],
   "source": [
    "x = z.execute('select * from z where length(zi)=1')\n",
    "x = list(x)\n",
    "\n",
    "zi = [i[0] for i in x]\n",
    "\n",
    "pinyin = [[i for i in xi[2:6] if i is not None] for xi in x]\n",
    "pinyin = [','.join(i) for i in pinyin]\n",
    "\n",
    "len(x), zi[:5], pinyin[:5]"
   ]
  },
  {
   "cell_type": "code",
   "execution_count": 27,
   "metadata": {
    "collapsed": false
   },
   "outputs": [
    {
     "data": {
      "text/plain": [
       "<sqlite3.Cursor at 0x104abbe30>"
      ]
     },
     "execution_count": 27,
     "metadata": {},
     "output_type": "execute_result"
    }
   ],
   "source": [
    "n.execute(\"create table 'c2p'(c text collate binary, p text collate binary, primary key (c collate binary) \" + \\\n",
    "          \"on conflict abort) without rowid\")"
   ]
  },
  {
   "cell_type": "code",
   "execution_count": 28,
   "metadata": {
    "collapsed": true
   },
   "outputs": [],
   "source": [
    "for i in zip(zi, pinyin):\n",
    "    n.execute('insert into c2p values (?,?)', i)\n",
    "newDB.commit()"
   ]
  },
  {
   "cell_type": "code",
   "execution_count": 29,
   "metadata": {
    "collapsed": false
   },
   "outputs": [
    {
     "name": "stdout",
     "output_type": "stream",
     "text": [
      "warn Wr ⼢\n",
      "('乴', 'Or')\n",
      "('亅', 'Mr')\n",
      "('倔', 'Mr')\n",
      "('傕', 'Mr')\n",
      "('僪', 'Mr')\n",
      "('决', 'Mr')\n",
      "('刔', 'Mr')\n",
      "('刖', 'Lr')\n",
      "('剠', 'Hr')\n",
      "('劂', 'Mr')\n",
      "('却', 'Nr')\n",
      "('卻', 'Nr')\n",
      "('厥', 'Mr')\n",
      "('吙', 'Or')\n",
      "('噘', 'Mr')\n",
      "('噦', 'Lr')\n",
      "('噱', 'Or')\n",
      "('嚯', 'Gr')\n",
      "('坹', 'Or')\n",
      "('埆', 'Nr')\n",
      "('堀', 'Mr')\n",
      "('壆', 'Or')\n",
      "('妜', 'Mr')\n",
      "('嬳', 'Lr')\n",
      "('孓', 'Mr')\n",
      "('學', 'Or')\n",
      "('屩', 'Mr')\n",
      "('屫', 'Mr')\n",
      "('岄', 'Lr')\n",
      "('岤', 'Or')\n",
      "('岳', 'Lr')\n",
      "('峃', 'Or')\n",
      "('崅', 'Nr')\n",
      "('崛', 'Mr')\n",
      "('嶨', 'Or')\n",
      "('嶽', 'Lr')\n",
      "('弡', 'Mr')\n",
      "('彏', 'Mr')\n",
      "('彟', 'Lr')\n",
      "('怯', 'Nr')\n",
      "('恱', 'Lr')\n",
      "('悅', 'Lr')\n",
      "('悦', 'Lr')\n",
      "('悫', 'Nr')\n",
      "('愨', 'Nr')\n",
      "('慤', 'Nr')\n",
      "('憠', 'Mr')\n",
      "('憰', 'Mr')\n",
      "('戄', 'Mr')\n",
      "('戉', 'Lr')\n",
      "('抈', 'Lr')\n",
      "('抉', 'Mr')\n",
      "('挗', 'Mr')\n",
      "('捔', 'Mr')\n",
      "('捳', 'Lr')\n",
      "('掘', 'Mr')\n",
      "('掠', 'Hr')\n",
      "('搉', 'Nr')\n",
      "('撅', 'Mr')\n",
      "('擽', 'Hr')\n",
      "('攫', 'Mr')\n",
      "('斈', 'Or')\n",
      "('曰', 'Lr')\n",
      "('月', 'Lr')\n",
      "('柽', 'Mr')\n",
      "('桖', 'Or')\n",
      "('桷', 'Mr')\n",
      "('榷', 'Nr')\n",
      "('樰', 'Or')\n",
      "('樾', 'Lr')\n",
      "('橛', 'Mr')\n",
      "('欔', 'Mr')\n",
      "('欮', 'Mr')\n",
      "('毃', 'Nr')\n",
      "('氒', 'Mr')\n",
      "('決', 'Mr')\n",
      "('泧', 'Lr')\n",
      "('泬', 'Or')\n",
      "('泶', 'Or')\n",
      "('潏', 'Mr')\n",
      "('澚', 'Lr')\n",
      "('澩', 'Or')\n",
      "('瀹', 'Lr')\n",
      "('灍', 'Nr')\n",
      "('炔', 'Nr')\n",
      "('焆', 'Mr')\n",
      "('焳', 'Mr')\n",
      "('熦', 'Mr')\n",
      "('燢', 'Or')\n",
      "('燩', 'Nr')\n",
      "('爚', 'Lr')\n",
      "('爝', 'Mr')\n",
      "('爵', 'Mr')\n",
      "('狘', 'Lr')\n",
      "('獗', 'Mr')\n",
      "('玃', 'Mr')\n",
      "('玥', 'Lr')\n",
      "('玦', 'Mr')\n",
      "('玨', 'Mr')\n",
      "('瑴', 'Mr')\n",
      "('略', 'Hr')\n",
      "('疟', 'Gr')\n",
      "('疦', 'Mr')\n",
      "('瘚', 'Mr')\n",
      "('瘧', 'Gr')\n",
      "('瘸', 'Nr')\n",
      "('皵', 'Nr')\n",
      "('矍', 'Mr')\n",
      "('矡', 'Mr')\n",
      "('砄', 'Mr')\n",
      "('硞', 'Nr')\n",
      "('确', 'Nr')\n",
      "('硸', 'Gr')\n",
      "('碏', 'Nr')\n",
      "('確', 'Nr')\n",
      "('碻', 'Nr')\n",
      "('礐', 'Nr')\n",
      "('礭', 'Nr')\n",
      "('礿', 'Lr')\n",
      "('禴', 'Lr')\n",
      "('稤', 'Hr')\n",
      "('穱', 'Mr')\n",
      "('穴', 'Or')\n",
      "('箹', 'Lr')\n",
      "('篗', 'Lr')\n",
      "('籆', 'Lr')\n",
      "('籥', 'Lr')\n",
      "('粤', 'Lr')\n",
      "('粵', 'Lr')\n",
      "('約', 'Lr')\n",
      "('絕', 'Mr')\n",
      "('絶', 'Mr')\n",
      "('绝', 'Mr')\n",
      "('缺', 'Nr')\n",
      "('缼', 'Nr')\n",
      "('膤', 'Or')\n",
      "('臄', 'Mr')\n",
      "('艝', 'Or')\n",
      "('芵', 'Mr')\n",
      "('茓', 'Or')\n",
      "('蒛', 'Nr')\n",
      "('蕝', 'Mr')\n",
      "('蕨', 'Mr')\n",
      "('薛', 'Or')\n",
      "('蘥', 'Lr')\n",
      "('虐', 'Gr')\n",
      "('蚎', 'Lr')\n",
      "('蚏', 'Lr')\n",
      "('蚗', 'Mr')\n",
      "('蟨', 'Mr')\n",
      "('蟩', 'Mr')\n",
      "('蠼', 'Mr')\n",
      "('袕', 'Or')\n",
      "('觖', 'Mr')\n",
      "('觷', 'Or')\n",
      "('觼', 'Mr')\n",
      "('訣', 'Mr')\n",
      "('謔', 'Gr')\n",
      "('謞', 'Or')\n",
      "('譎', 'Mr')\n",
      "('诀', 'Mr')\n",
      "('谑', 'Or')\n",
      "('谲', 'Mr')\n",
      "('谻', 'Mr')\n",
      "('貜', 'Mr')\n",
      "('赽', 'Mr')\n",
      "('越', 'Lr')\n",
      "('趐', 'Or')\n",
      "('趯', 'Lr')\n",
      "('趹', 'Mr')\n",
      "('跀', 'Lr')\n",
      "('跃', 'Lr')\n",
      "('蹶', 'Mr')\n",
      "('蹷', 'Mr')\n",
      "('躍', 'Lr')\n",
      "('躩', 'Mr')\n",
      "('轌', 'Or')\n",
      "('逫', 'Mr')\n",
      "('鈅', 'Lr')\n",
      "('鈌', 'Mr')\n",
      "('鉞', 'Lr')\n",
      "('鋝', 'Hr')\n",
      "('鋢', 'Hr')\n",
      "('鐍', 'Mr')\n",
      "('鐝', 'Mr')\n",
      "('钁', 'Mr')\n",
      "('钥', 'Lr')\n",
      "('钺', 'Lr')\n",
      "('锊', 'Hr')\n",
      "('镢', 'Mr')\n",
      "('閱', 'Lr')\n",
      "('閲', 'Lr')\n",
      "('闋', 'Nr')\n",
      "('闕', 'Nr')\n",
      "('阅', 'Lr')\n",
      "('阕', 'Mr')\n",
      "('阙', 'Nr')\n",
      "('雀', 'Nr')\n",
      "('雤', 'Or')\n",
      "('雪', 'Or')\n",
      "('靴', 'Or')\n",
      "('鞽', 'Mr')\n",
      "('魥', 'Nr')\n",
      "('鱈', 'Or')\n",
      "('鱊', 'Mr')\n",
      "('鳕', 'Or')\n",
      "('鴃', 'Mr')\n",
      "('鵤', 'Mr')\n",
      "('鵲', 'Nr')\n",
      "('鷢', 'Mr')\n",
      "('鷽', 'Or')\n",
      "('鸑', 'Lr')\n",
      "('鸙', 'Lr')\n",
      "('鸴', 'Or')\n",
      "('鹊', 'Nr')\n",
      "('龠', 'Lr')\n"
     ]
    },
    {
     "data": {
      "text/plain": [
       "216"
      ]
     },
     "execution_count": 29,
     "metadata": {},
     "output_type": "execute_result"
    }
   ],
   "source": [
    "count = 0\n",
    "original = list(n.execute('select * from c2p where p glob \"?r\"'))\n",
    "for i in original:\n",
    "    if isE(i[1], i[0]):\n",
    "        print(i)\n",
    "        count += 1\n",
    "        newPinyin = i[0][0] + 'd'\n",
    "        sql = 'update c2p set p = ? where p = ? and c = ?'\n",
    "        n.execute(sql, (newPinyin, i[1], i[0]))\n",
    "#         break\n",
    "count"
   ]
  },
  {
   "cell_type": "markdown",
   "metadata": {},
   "source": [
    "# Finalize"
   ]
  },
  {
   "cell_type": "code",
   "execution_count": 30,
   "metadata": {
    "collapsed": false
   },
   "outputs": [],
   "source": [
    "newDB.commit()\n",
    "n.execute('vacuum')\n",
    "newDB.close()"
   ]
  }
 ],
 "metadata": {
  "kernelspec": {
   "display_name": "Python 3",
   "language": "python",
   "name": "python3"
  },
  "language_info": {
   "codemirror_mode": {
    "name": "ipython",
    "version": 3
   },
   "file_extension": ".py",
   "mimetype": "text/x-python",
   "name": "python",
   "nbconvert_exporter": "python",
   "pygments_lexer": "ipython3",
   "version": "3.4.4"
  }
 },
 "nbformat": 4,
 "nbformat_minor": 0
}
